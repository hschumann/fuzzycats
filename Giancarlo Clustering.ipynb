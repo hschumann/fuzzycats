{
 "cells": [
  {
   "cell_type": "code",
   "execution_count": 1,
   "metadata": {
    "collapsed": true,
    "deletable": true,
    "editable": true
   },
   "outputs": [],
   "source": [
    "import sys\n",
    "import numpy as np\n",
    "import pandas as pd"
   ]
  },
  {
   "cell_type": "code",
   "execution_count": 2,
   "metadata": {
    "collapsed": false,
    "deletable": true,
    "editable": true
   },
   "outputs": [],
   "source": [
    "## read in the data\n",
    "crime = pd.read_csv('Crime_Data_Chicago.csv',low_memory = False)\n",
    "crime = crime[:5000]"
   ]
  },
  {
   "cell_type": "code",
   "execution_count": 3,
   "metadata": {
    "collapsed": true,
    "deletable": true,
    "editable": true
   },
   "outputs": [],
   "source": [
    "## create latitude and longitude columns separately\n",
    "crime['latitude'] = np.array([float(s.split(',')[0][1:]) for s in crime['Location ']])\n",
    "crime['longitude'] = np.array([float(s.split(',')[1][:-1]) for s in crime['Location ']])"
   ]
  },
  {
   "cell_type": "code",
   "execution_count": 4,
   "metadata": {
    "collapsed": false,
    "deletable": true,
    "editable": true,
    "scrolled": true
   },
   "outputs": [
    {
     "data": {
      "text/html": [
       "<div>\n",
       "<table border=\"1\" class=\"dataframe\">\n",
       "  <thead>\n",
       "    <tr style=\"text-align: right;\">\n",
       "      <th></th>\n",
       "      <th>DR Number</th>\n",
       "      <th>Date Reported</th>\n",
       "      <th>Date Occurred</th>\n",
       "      <th>Time Occurred</th>\n",
       "      <th>Area ID</th>\n",
       "      <th>Area Name</th>\n",
       "      <th>Reporting District</th>\n",
       "      <th>Crime Code</th>\n",
       "      <th>Crime Code Description</th>\n",
       "      <th>MO Codes</th>\n",
       "      <th>...</th>\n",
       "      <th>Status Description</th>\n",
       "      <th>Crime Code 1</th>\n",
       "      <th>Crime Code 2</th>\n",
       "      <th>Crime Code 3</th>\n",
       "      <th>Crime Code 4</th>\n",
       "      <th>Address</th>\n",
       "      <th>Cross Street</th>\n",
       "      <th>Location</th>\n",
       "      <th>latitude</th>\n",
       "      <th>longitude</th>\n",
       "    </tr>\n",
       "  </thead>\n",
       "  <tbody>\n",
       "    <tr>\n",
       "      <th>0</th>\n",
       "      <td>1208575</td>\n",
       "      <td>3/14/2013</td>\n",
       "      <td>3/11/2013</td>\n",
       "      <td>1800</td>\n",
       "      <td>12</td>\n",
       "      <td>77th Street</td>\n",
       "      <td>1241</td>\n",
       "      <td>626</td>\n",
       "      <td>INTIMATE PARTNER - SIMPLE ASSAULT</td>\n",
       "      <td>0416 0446 1243 2000</td>\n",
       "      <td>...</td>\n",
       "      <td>Adult Other</td>\n",
       "      <td>626</td>\n",
       "      <td>NaN</td>\n",
       "      <td>NaN</td>\n",
       "      <td>NaN</td>\n",
       "      <td>6300    BRYNHURST                    AV</td>\n",
       "      <td>NaN</td>\n",
       "      <td>(33.9829, -118.3338)</td>\n",
       "      <td>33.9829</td>\n",
       "      <td>-118.3338</td>\n",
       "    </tr>\n",
       "    <tr>\n",
       "      <th>1</th>\n",
       "      <td>102005556</td>\n",
       "      <td>1/25/2010</td>\n",
       "      <td>1/22/2010</td>\n",
       "      <td>2300</td>\n",
       "      <td>20</td>\n",
       "      <td>Olympic</td>\n",
       "      <td>2071</td>\n",
       "      <td>510</td>\n",
       "      <td>VEHICLE - STOLEN</td>\n",
       "      <td>NaN</td>\n",
       "      <td>...</td>\n",
       "      <td>Invest Cont</td>\n",
       "      <td>510</td>\n",
       "      <td>NaN</td>\n",
       "      <td>NaN</td>\n",
       "      <td>NaN</td>\n",
       "      <td>VAN NESS</td>\n",
       "      <td>15TH</td>\n",
       "      <td>(34.0454, -118.3157)</td>\n",
       "      <td>34.0454</td>\n",
       "      <td>-118.3157</td>\n",
       "    </tr>\n",
       "    <tr>\n",
       "      <th>2</th>\n",
       "      <td>418</td>\n",
       "      <td>3/19/2013</td>\n",
       "      <td>3/18/2013</td>\n",
       "      <td>2030</td>\n",
       "      <td>18</td>\n",
       "      <td>Southeast</td>\n",
       "      <td>1823</td>\n",
       "      <td>510</td>\n",
       "      <td>VEHICLE - STOLEN</td>\n",
       "      <td>NaN</td>\n",
       "      <td>...</td>\n",
       "      <td>Invest Cont</td>\n",
       "      <td>510</td>\n",
       "      <td>NaN</td>\n",
       "      <td>NaN</td>\n",
       "      <td>NaN</td>\n",
       "      <td>200 E  104TH                        ST</td>\n",
       "      <td>NaN</td>\n",
       "      <td>(33.942, -118.2717)</td>\n",
       "      <td>33.9420</td>\n",
       "      <td>-118.2717</td>\n",
       "    </tr>\n",
       "    <tr>\n",
       "      <th>3</th>\n",
       "      <td>101822289</td>\n",
       "      <td>11/11/2010</td>\n",
       "      <td>11/10/2010</td>\n",
       "      <td>1800</td>\n",
       "      <td>18</td>\n",
       "      <td>Southeast</td>\n",
       "      <td>1803</td>\n",
       "      <td>510</td>\n",
       "      <td>VEHICLE - STOLEN</td>\n",
       "      <td>NaN</td>\n",
       "      <td>...</td>\n",
       "      <td>Invest Cont</td>\n",
       "      <td>510</td>\n",
       "      <td>NaN</td>\n",
       "      <td>NaN</td>\n",
       "      <td>NaN</td>\n",
       "      <td>88TH</td>\n",
       "      <td>WALL</td>\n",
       "      <td>(33.9572, -118.2717)</td>\n",
       "      <td>33.9572</td>\n",
       "      <td>-118.2717</td>\n",
       "    </tr>\n",
       "    <tr>\n",
       "      <th>4</th>\n",
       "      <td>42104479</td>\n",
       "      <td>1/11/2014</td>\n",
       "      <td>1/4/2014</td>\n",
       "      <td>2300</td>\n",
       "      <td>21</td>\n",
       "      <td>Topanga</td>\n",
       "      <td>2133</td>\n",
       "      <td>745</td>\n",
       "      <td>VANDALISM - MISDEAMEANOR ($399 OR UNDER)</td>\n",
       "      <td>329</td>\n",
       "      <td>...</td>\n",
       "      <td>Invest Cont</td>\n",
       "      <td>745</td>\n",
       "      <td>NaN</td>\n",
       "      <td>NaN</td>\n",
       "      <td>NaN</td>\n",
       "      <td>7200    CIRRUS                       WY</td>\n",
       "      <td>NaN</td>\n",
       "      <td>(34.2009, -118.6369)</td>\n",
       "      <td>34.2009</td>\n",
       "      <td>-118.6369</td>\n",
       "    </tr>\n",
       "  </tbody>\n",
       "</table>\n",
       "<p>5 rows × 28 columns</p>\n",
       "</div>"
      ],
      "text/plain": [
       "   DR Number Date Reported Date Occurred  Time Occurred  Area ID    Area Name  \\\n",
       "0    1208575     3/14/2013     3/11/2013           1800       12  77th Street   \n",
       "1  102005556     1/25/2010     1/22/2010           2300       20      Olympic   \n",
       "2        418     3/19/2013     3/18/2013           2030       18    Southeast   \n",
       "3  101822289    11/11/2010    11/10/2010           1800       18    Southeast   \n",
       "4   42104479     1/11/2014      1/4/2014           2300       21      Topanga   \n",
       "\n",
       "   Reporting District  Crime Code                    Crime Code Description  \\\n",
       "0                1241         626         INTIMATE PARTNER - SIMPLE ASSAULT   \n",
       "1                2071         510                          VEHICLE - STOLEN   \n",
       "2                1823         510                          VEHICLE - STOLEN   \n",
       "3                1803         510                          VEHICLE - STOLEN   \n",
       "4                2133         745  VANDALISM - MISDEAMEANOR ($399 OR UNDER)   \n",
       "\n",
       "              MO Codes    ...      Status Description Crime Code 1  \\\n",
       "0  0416 0446 1243 2000    ...             Adult Other          626   \n",
       "1                  NaN    ...             Invest Cont          510   \n",
       "2                  NaN    ...             Invest Cont          510   \n",
       "3                  NaN    ...             Invest Cont          510   \n",
       "4                  329    ...             Invest Cont          745   \n",
       "\n",
       "  Crime Code 2  Crime Code 3 Crime Code 4  \\\n",
       "0          NaN           NaN          NaN   \n",
       "1          NaN           NaN          NaN   \n",
       "2          NaN           NaN          NaN   \n",
       "3          NaN           NaN          NaN   \n",
       "4          NaN           NaN          NaN   \n",
       "\n",
       "                                   Address Cross Street             Location   \\\n",
       "0  6300    BRYNHURST                    AV          NaN  (33.9829, -118.3338)   \n",
       "1                                 VAN NESS         15TH  (34.0454, -118.3157)   \n",
       "2   200 E  104TH                        ST          NaN   (33.942, -118.2717)   \n",
       "3                                     88TH         WALL  (33.9572, -118.2717)   \n",
       "4  7200    CIRRUS                       WY          NaN  (34.2009, -118.6369)   \n",
       "\n",
       "  latitude  longitude  \n",
       "0  33.9829  -118.3338  \n",
       "1  34.0454  -118.3157  \n",
       "2  33.9420  -118.2717  \n",
       "3  33.9572  -118.2717  \n",
       "4  34.2009  -118.6369  \n",
       "\n",
       "[5 rows x 28 columns]"
      ]
     },
     "execution_count": 4,
     "metadata": {},
     "output_type": "execute_result"
    }
   ],
   "source": [
    "crime.head()"
   ]
  },
  {
   "cell_type": "code",
   "execution_count": 5,
   "metadata": {
    "collapsed": false,
    "deletable": true,
    "editable": true
   },
   "outputs": [],
   "source": [
    "## rescale time variable\n",
    "def newTimes(df):\n",
    "    df['Time Occurred'][np.where(df['Time Occurred'] < 800)[0]] = 2400 - (800 - df['Time Occurred'][np.where(df['Time Occurred'] < 800)[0]])\n",
    "    df['Time Occurred'][np.where(df['Time Occurred'] >= 800)[0]] = df['Time Occurred'][np.where(df['Time Occurred'] >= 800)[0]] - 800\n",
    "    \n",
    "## make sex binary!\n",
    "def newSex(df):\n",
    "    df['Sex'] = np.zeros(len(df['Victim Sex']))\n",
    "    df['Sex'][np.where(df['Victim Sex'] == 'M')[0]] = 1\n",
    "    df['Sex'][np.where(df['Victim Sex'] == 'F')[0]] = 0\n",
    "    df['Sex'][np.where(df['Victim Sex'] == '')[0]] = 0\n",
    "\n",
    "## clean age (remove missing values)\n",
    "def cleanAge(df):\n",
    "    meanAge = np.mean(df['Victim Age'])\n",
    "    df['Victim Age'][np.isnan(df['Victim Age'])] = meanAge\n",
    "\n",
    "## Normilze All Variables\n",
    "def normalizeDF(df,columns):\n",
    "    return (df[columns] - df[columns].mean()) / (np.absolute(df[columns]).max()) "
   ]
  },
  {
   "cell_type": "code",
   "execution_count": 6,
   "metadata": {
    "collapsed": true,
    "deletable": true,
    "editable": true
   },
   "outputs": [],
   "source": [
    "## distance formulas\n",
    "def L2Norm(pt1,pt2):\n",
    "    return np.sqrt(np.sum((pt1.values[0] - pt2.values[0]) ** 2))\n",
    "\n",
    "def L1Norm(pt1,pt2):\n",
    "    return np.sum(np.absolute((pt1.values[0] - pt2.values[0])))"
   ]
  },
  {
   "cell_type": "code",
   "execution_count": 7,
   "metadata": {
    "collapsed": true,
    "deletable": true,
    "editable": true
   },
   "outputs": [],
   "source": [
    "def classifyPoint(point, centroids, clusters, distFunc):\n",
    "    smallestDist = np.inf\n",
    "    closestCentroid = 0\n",
    "    \n",
    "    for c in range(len(centroids)):\n",
    "        #if (centroids.iloc[[c]].equals(point)):\n",
    "        #    closestCentroid = c\n",
    "        \n",
    "        temp = distFunc(centroids.iloc[[c]], point)\n",
    "        if temp < smallestDist:\n",
    "            closestCentroid = c\n",
    "            smallestDist = temp\n",
    "            \n",
    "    # Add point to closest cluster\n",
    "    clusters[closestCentroid].append(point)"
   ]
  },
  {
   "cell_type": "code",
   "execution_count": 8,
   "metadata": {
    "collapsed": true,
    "deletable": true,
    "editable": true
   },
   "outputs": [],
   "source": [
    "def getCentroids(df, centroids, clusters):\n",
    "    newClusters = pd.DataFrame(data=None, columns=df.columns)\n",
    "    for key, points in clusters.items():\n",
    "        if points == []:\n",
    "            newClusters = pd.concat([newClusters, centroids.iloc[[key]]], axis=0)\n",
    "        else:\n",
    "            cluster = pd.DataFrame(data=None, columns=df.columns)\n",
    "            for p in points:\n",
    "                cluster = pd.concat([cluster, pd.DataFrame(p)], axis=0)\n",
    "            newClusters = newClusters.append(np.mean(cluster), ignore_index=True)\n",
    "    \n",
    "    return newClusters"
   ]
  },
  {
   "cell_type": "code",
   "execution_count": 9,
   "metadata": {
    "collapsed": false,
    "deletable": true,
    "editable": true
   },
   "outputs": [],
   "source": [
    "def cluster(df,columns,k,distFunc):\n",
    "    df = df[columns]\n",
    "    \n",
    "    ## pick k random points from the data set \n",
    "    ## and make sure they are unique\n",
    "    firstIDs = np.random.randint(len(df), size = k)\n",
    "    while (len(np.unique(firstIDs)) < k):\n",
    "        firstIDs = np.random.randint(len(df), size = k)\n",
    "    \n",
    "    ## set centroids\n",
    "    centroids = df.iloc[firstIDs]\n",
    "    centroids.index = range(k)\n",
    "    \n",
    "    ## run until clusters don't change (hopefully not forever)\n",
    "    while True:\n",
    "        clusters = {k: [] for k in range(k)}\n",
    "        for p in range(len(df)):\n",
    "            point = df.iloc[[p]]\n",
    "            classifyPoint(point, centroids, clusters, distFunc)\n",
    "            \n",
    "        newCentroids = getCentroids(df, centroids, clusters)\n",
    "        \n",
    "        # maybe check if it hits a certain threshold?\n",
    "        if (centroids.equals(newCentroids)):\n",
    "            break\n",
    "        else:\n",
    "            centroids = newCentroids\n",
    "            \n",
    "    return clusters"
   ]
  },
  {
   "cell_type": "code",
   "execution_count": null,
   "metadata": {
    "collapsed": false,
    "deletable": true,
    "editable": true,
    "scrolled": true
   },
   "outputs": [],
   "source": [
    "crimeCodes = crime[['Crime Code', 'Crime Code Description']]\n",
    "crimeCodes['Crime Code'] = (crimeCodes['Crime Code'] - crimeCodes['Crime Code'].mean()) / (np.absolute(crimeCodes['Crime Code']).max())\n",
    "#crimeCodesMap = {code: desc for code, desc in crimeCodes.itertuples(index=False)}\n",
    "#crimeCodesMap"
   ]
  },
  {
   "cell_type": "code",
   "execution_count": null,
   "metadata": {
    "collapsed": true,
    "deletable": true,
    "editable": true
   },
   "outputs": [],
   "source": [
    "cols = ['Time Occurred','Area ID','Reporting District','Crime Code','Victim Age','Sex','Premise Code','latitude','longitude']"
   ]
  },
  {
   "cell_type": "code",
   "execution_count": null,
   "metadata": {
    "collapsed": false,
    "deletable": true,
    "editable": true
   },
   "outputs": [],
   "source": [
    "## data cleaning\n",
    "newTimes(crime)\n",
    "newSex(crime)\n",
    "cleanAge(crime)\n",
    "crime = normalizeDF(crime, cols)"
   ]
  },
  {
   "cell_type": "code",
   "execution_count": null,
   "metadata": {
    "collapsed": true,
    "deletable": true,
    "editable": true
   },
   "outputs": [],
   "source": []
  },
  {
   "cell_type": "code",
   "execution_count": null,
   "metadata": {
    "collapsed": false,
    "deletable": true,
    "editable": true,
    "scrolled": true
   },
   "outputs": [],
   "source": [
    "clusters = cluster(crime,cols,3, L2Norm)"
   ]
  },
  {
   "cell_type": "code",
   "execution_count": null,
   "metadata": {
    "collapsed": false,
    "deletable": true,
    "editable": true
   },
   "outputs": [],
   "source": []
  },
  {
   "cell_type": "code",
   "execution_count": null,
   "metadata": {
    "collapsed": false,
    "deletable": true,
    "editable": true
   },
   "outputs": [],
   "source": [
    "niceDisplay = pd.DataFrame(data=None, columns=cols)\n",
    "for cluster, points in clusters.items():\n",
    "    for point in points:\n",
    "        temp = pd.DataFrame(point)\n",
    "        temp['Cluster'] = cluster\n",
    "        niceDisplay = niceDisplay.append(temp, ignore_index=True)"
   ]
  },
  {
   "cell_type": "code",
   "execution_count": null,
   "metadata": {
    "collapsed": false,
    "deletable": true,
    "editable": true
   },
   "outputs": [],
   "source": [
    "niceDisplay = niceDisplay.merge(crimeCodes, on=['Crime Code'])"
   ]
  },
  {
   "cell_type": "markdown",
   "metadata": {
    "deletable": true,
    "editable": true
   },
   "source": [
    "# Clustered Data"
   ]
  },
  {
   "cell_type": "code",
   "execution_count": null,
   "metadata": {
    "collapsed": false,
    "deletable": true,
    "editable": true
   },
   "outputs": [],
   "source": [
    "#niceDisplay\n",
    "niceDisplay.set_index('Cluster')"
   ]
  },
  {
   "cell_type": "markdown",
   "metadata": {
    "deletable": true,
    "editable": true
   },
   "source": [
    "# Displays Top 5 Crimes in Cluster 0"
   ]
  },
  {
   "cell_type": "code",
   "execution_count": null,
   "metadata": {
    "collapsed": false,
    "deletable": true,
    "editable": true
   },
   "outputs": [],
   "source": [
    "niceDisplay.loc[niceDisplay['Cluster'] == 0].groupby(['Crime Code Description']).count().sort_values(by=['Crime Code'], ascending=False).head()"
   ]
  },
  {
   "cell_type": "code",
   "execution_count": null,
   "metadata": {
    "collapsed": true,
    "deletable": true,
    "editable": true
   },
   "outputs": [],
   "source": []
  }
 ],
 "metadata": {
  "kernelspec": {
   "display_name": "Python 2",
   "language": "python",
   "name": "python2"
  },
  "language_info": {
   "codemirror_mode": {
    "name": "ipython",
    "version": 2
   },
   "file_extension": ".py",
   "mimetype": "text/x-python",
   "name": "python",
   "nbconvert_exporter": "python",
   "pygments_lexer": "ipython2",
   "version": "2.7.13"
  }
 },
 "nbformat": 4,
 "nbformat_minor": 2
}
